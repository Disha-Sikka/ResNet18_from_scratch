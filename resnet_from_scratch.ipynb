{
  "nbformat": 4,
  "nbformat_minor": 0,
  "metadata": {
    "colab": {
      "provenance": [],
      "authorship_tag": "ABX9TyOSWsjb/rCuEyew1vqBw/SH",
      "include_colab_link": true
    },
    "kernelspec": {
      "name": "python3",
      "display_name": "Python 3"
    },
    "language_info": {
      "name": "python"
    }
  },
  "cells": [
    {
      "cell_type": "markdown",
      "metadata": {
        "id": "view-in-github",
        "colab_type": "text"
      },
      "source": [
        "<a href=\"https://colab.research.google.com/github/Disha-Sikka/ResNet18_from_scratch/blob/main/resnet_from_scratch.ipynb\" target=\"_parent\"><img src=\"https://colab.research.google.com/assets/colab-badge.svg\" alt=\"Open In Colab\"/></a>"
      ]
    },
    {
      "cell_type": "code",
      "execution_count": 11,
      "metadata": {
        "id": "XQB3E453SWC9"
      },
      "outputs": [],
      "source": [
        "import torch\n",
        "import torch.nn as nn #for defining layers\n",
        "from torchvision import datasets, transforms #for importing datasets and applying transformations\n",
        "import torch.nn.functional as F\n",
        "from torch.utils.data import DataLoader, Subset # for importing data in batches\n",
        "import matplotlib.pyplot as plt # for plating data on graphs\n",
        "import numpy as np #to do array transformations\n"
      ]
    },
    {
      "cell_type": "code",
      "source": [
        "device= torch.device('cuda' if torch.cuda.is_available() else 'cpu')"
      ],
      "metadata": {
        "id": "-fJA5HaqiOgc"
      },
      "execution_count": null,
      "outputs": []
    },
    {
      "cell_type": "code",
      "source": [
        "class BasicBlock(nn.Module): # nn.Module is the base class for all nerual networks\n",
        "  def __init__(self, in_channels, out_channels, stride=1, downSample=None): # in_channels and out_channels for the depth of input and output image, stride for the no. of times a filter move over the input\n",
        "    super(BasicBlock, self).__init__()\n",
        "    self.conv1= nn.Conv2d(in_channels, out_channels, kernel_size=3, stride=stride, padding=1, bias=False)\n",
        "    self.bn1= nn.BatchNorm2d(out_channels)\n",
        "    self.relu= nn.ReLU(inplace=True)\n",
        "    self.conv2= nn.Conv2d(in_channels, out_channels, kernel_size=3, stride=stride, padding=1, bias=False)\n",
        "    self.bn2= nn.BatchNorm2d(out_channels)\n",
        "    self.downSample= downSample\n",
        "\n",
        "  def forward(self, x):\n",
        "    identity= x\n",
        "    if self.downSample:\n",
        "      identity=self.downSample(x)\n",
        "\n",
        "    out=self.conv1(x)\n",
        "    out=self.bn1(out)\n",
        "    out=self.relu(out)\n",
        "    out=self.conv2(out)\n",
        "    out=self.bn2(out)\n",
        "    out+=identity\n",
        "    out= self.relu(out)\n",
        "    return out"
      ],
      "metadata": {
        "id": "K80nSgUbijPb"
      },
      "execution_count": null,
      "outputs": []
    },
    {
      "cell_type": "code",
      "source": [
        "class ResNet(nn.Module):\n",
        "  def __init__(self, block, layers, num_classes=1000):\n",
        "    super(ResNet18, self).__init__()\n",
        "    self.in_channels=64\n",
        "\n",
        "    self.conv1= nn.Conv2d(3, 64, kernel_size=3, padding=1, stride=1, bias=False)\n",
        "    self.bn1= nn.BatchNorm2d(64)\n",
        "    self.relu= nn.ReLU(True)\n",
        "\n",
        "    self.layer1= self.make_layer(block, 64, layers[0], stride=1)\n",
        "    self.layer2= self.make_layer(block, 64, layers[1], stride=2)\n",
        "    self.layer3= self.make_layer(block, 64, layers[2], stride=2)\n",
        "    self.layer4= self.make_layer(block, 64, layers[3], stride=2)\n",
        "\n",
        "    self.avgpool= nn.AdaptiveAvgPool2d((1,1))\n",
        "    self.fc= nn.Linear(512, num_classes)\n",
        "\n",
        "    def make_layer(self,bloack, out_channels, blocks, stride):\n",
        "      strides= [stride] + [1] * (blocks-1)\n",
        "      layers=[]\n",
        "\n",
        "      for s in strides:\n",
        "        downSample= None\n",
        "\n",
        "        if s!=1 or self.in_channels != out_channels:\n",
        "          downSample= nn.Sequential(nn.Conv2d(self.in_channels, out_channels, kernel_size=3, padding=1, stride=1, bias= False)\n",
        "          , self.BatchNorm2d(out_channels))\n",
        "\n",
        "        layers.append(block(self.in_channels, out_channels, s, downSample))\n",
        "        self.in_channels= out_channels\n",
        "\n",
        "      return nn.Sequential(*layers)\n",
        "\n",
        "    def forward(self, x):\n",
        "      x= self.conv1(x)\n",
        "      x= self.bn1(x)\n",
        "      x= self.relu(x)\n",
        "\n",
        "      x= self.layer1(x)\n",
        "      x= self.layer2(x)\n",
        "      x= self.layer3(x)\n",
        "      x= self.layer4(x)\n",
        "\n",
        "      x=self.avgpool(x)\n",
        "      x=torch.flatten(x,1)\n",
        "      x.self.fc(x)\n",
        "\n",
        "      return x\n",
        "\n"
      ],
      "metadata": {
        "id": "GXcIhzf6pzz2"
      },
      "execution_count": 8,
      "outputs": []
    },
    {
      "cell_type": "code",
      "source": [
        "def ResNet18():\n",
        "  return (ResNet(BasicBlock, [2,2,2,2]))"
      ],
      "metadata": {
        "id": "w4P-XxKk1vrF"
      },
      "execution_count": 7,
      "outputs": []
    },
    {
      "cell_type": "code",
      "source": [
        "from torchvision.models import resnet18"
      ],
      "metadata": {
        "id": "HJlqDWMN2HBK"
      },
      "execution_count": 9,
      "outputs": []
    },
    {
      "cell_type": "code",
      "source": [
        "model= resnet18(pretrained=True)\n",
        "model.fc =nn.Linear(512,10)\n",
        "model=model.to(device)\n"
      ],
      "metadata": {
        "colab": {
          "base_uri": "https://localhost:8080/"
        },
        "id": "nB-Oz7kB7N2r",
        "outputId": "4e5c5cdb-96d4-4630-86c0-df8c6c4f897a"
      },
      "execution_count": 14,
      "outputs": [
        {
          "output_type": "stream",
          "name": "stderr",
          "text": [
            "/usr/local/lib/python3.11/dist-packages/torchvision/models/_utils.py:208: UserWarning: The parameter 'pretrained' is deprecated since 0.13 and may be removed in the future, please use 'weights' instead.\n",
            "  warnings.warn(\n",
            "/usr/local/lib/python3.11/dist-packages/torchvision/models/_utils.py:223: UserWarning: Arguments other than a weight enum or `None` for 'weights' are deprecated since 0.13 and may be removed in the future. The current behavior is equivalent to passing `weights=ResNet18_Weights.IMAGENET1K_V1`. You can also use `weights=ResNet18_Weights.DEFAULT` to get the most up-to-date weights.\n",
            "  warnings.warn(msg)\n"
          ]
        }
      ]
    },
    {
      "cell_type": "code",
      "source": [
        "transform = transforms.Compose([\n",
        "    transforms.Resize((224, 224)),\n",
        "    transforms.ToTensor(),\n",
        "    transforms.Normalize((0.5, 0.5, 0.5), (0.5, 0.5, 0.5))\n",
        "])\n",
        "\n",
        "train_dataset = datasets.CIFAR10(root='./data', train=True, download=True, transform=transform)\n",
        "train_subset = Subset(train_dataset, range(0, 256))  # first 256 images\n",
        "train_loader = DataLoader(train_subset, batch_size=8, shuffle=True)"
      ],
      "metadata": {
        "colab": {
          "base_uri": "https://localhost:8080/"
        },
        "id": "-Jijur20852Z",
        "outputId": "1967db88-2adf-4527-9ba6-6b766a852cb5"
      },
      "execution_count": 25,
      "outputs": [
        {
          "output_type": "stream",
          "name": "stderr",
          "text": [
            "100%|██████████| 170M/170M [00:12<00:00, 13.6MB/s]\n"
          ]
        }
      ]
    },
    {
      "cell_type": "code",
      "source": [],
      "metadata": {
        "id": "5B1Y7zEnAeRa"
      },
      "execution_count": null,
      "outputs": []
    }
  ]
}