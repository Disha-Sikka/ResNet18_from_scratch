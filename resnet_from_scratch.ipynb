{
  "nbformat": 4,
  "nbformat_minor": 0,
  "metadata": {
    "colab": {
      "provenance": [],
      "authorship_tag": "ABX9TyOOCmNYsx6nMINWHvXSHPX0",
      "include_colab_link": true
    },
    "kernelspec": {
      "name": "python3",
      "display_name": "Python 3"
    },
    "language_info": {
      "name": "python"
    }
  },
  "cells": [
    {
      "cell_type": "markdown",
      "metadata": {
        "id": "view-in-github",
        "colab_type": "text"
      },
      "source": [
        "<a href=\"https://colab.research.google.com/github/Disha-Sikka/ResNet18_from_scratch/blob/main/resnet_from_scratch.ipynb\" target=\"_parent\"><img src=\"https://colab.research.google.com/assets/colab-badge.svg\" alt=\"Open In Colab\"/></a>"
      ]
    },
    {
      "cell_type": "code",
      "execution_count": null,
      "metadata": {
        "id": "XQB3E453SWC9"
      },
      "outputs": [],
      "source": [
        "import torch\n",
        "import torch.nn as nn #for defining layers\n",
        "from torchvision import datasets, transforms #for importing datasets and applying transformations\n",
        "import torch.nn.functional as F\n",
        "from torch.utils.data import DataLoader # for importing data in batches\n",
        "import matplotlib.pyplot as plt # for plating data on graphs\n",
        "import numpy as np #to do array transformations\n"
      ]
    },
    {
      "cell_type": "code",
      "source": [
        "device= torch.device('cuda' if torch.cuda.is_available() else 'cpu')"
      ],
      "metadata": {
        "id": "-fJA5HaqiOgc"
      },
      "execution_count": null,
      "outputs": []
    },
    {
      "cell_type": "code",
      "source": [
        "class BasicBlock(nn.Module): # nn.Module is the base class for all nerual networks\n",
        "  def __init__(self, in_channels, out_channels, stride=1, downSample=None): # in_channels and out_channels for the depth of input and output image, stride for the no. of times a filter move over the input\n",
        "    super(BasicBlock, self).__init__()\n",
        "    self.conv1= nn.Conv2d(in_channels, out_channels, kernel_size=3, stride=stride, padding=1, bias=False)\n",
        "    self.bn1= nn.BatchNorm2d(out_channels)\n",
        "    self.relu= nn.ReLU(inplace=True)\n",
        "    self.conv2= nn.Conv2d(in_channels, out_channels, kernel_size=3, stride=stride, padding=1, bias=False)\n",
        "    self.bn2= nn.BatchNorm2d(out_channels)\n",
        "    self.downSample= downSample\n",
        "\n",
        "  def forward(self, x):\n",
        "    identity= x\n",
        "    if self.downSample:\n",
        "      identity=self.downSample(x)\n",
        "\n",
        "    out=self.conv1(x)\n",
        "    out=self.bn1(out)\n",
        "    out=self.relu(out)\n",
        "    out=self.conv2(out)\n",
        "    out=self.bn2(out)\n",
        "    out+=identity\n",
        "    out= self.relu(out)\n",
        "    return out"
      ],
      "metadata": {
        "id": "K80nSgUbijPb"
      },
      "execution_count": null,
      "outputs": []
    },
    {
      "cell_type": "code",
      "source": [
        "\n"
      ],
      "metadata": {
        "id": "GXcIhzf6pzz2"
      },
      "execution_count": null,
      "outputs": []
    }
  ]
}